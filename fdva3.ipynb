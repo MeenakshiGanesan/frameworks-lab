{
  "nbformat": 4,
  "nbformat_minor": 0,
  "metadata": {
    "colab": {
      "provenance": [],
      "authorship_tag": "ABX9TyOQyLl+FhgozUK3CxZxE++X",
      "include_colab_link": true
    },
    "kernelspec": {
      "name": "python3",
      "display_name": "Python 3"
    },
    "language_info": {
      "name": "python"
    }
  },
  "cells": [
    {
      "cell_type": "markdown",
      "metadata": {
        "id": "view-in-github",
        "colab_type": "text"
      },
      "source": [
        "<a href=\"https://colab.research.google.com/github/MeenakshiGanesan/frameworks-lab/blob/main/fdva3.ipynb\" target=\"_parent\"><img src=\"https://colab.research.google.com/assets/colab-badge.svg\" alt=\"Open In Colab\"/></a>"
      ]
    },
    {
      "cell_type": "code",
      "execution_count": null,
      "metadata": {
        "colab": {
          "base_uri": "https://localhost:8080/"
        },
        "id": "Tv5Jpd8YihR6",
        "outputId": "aff211e9-86f0-4d2d-9eb0-243a01274ccd"
      },
      "outputs": [
        {
          "output_type": "stream",
          "name": "stdout",
          "text": [
            "Original Dataset:\n",
            "       Name   Age  Score Gender\n",
            "0    Alice  25.0   85.0      F\n",
            "1      Bob   NaN   90.5      M\n",
            "2  Charlie  30.0    NaN      M\n",
            "3    Alice  25.0   85.0      F\n",
            "4      Eve  45.0   70.0      F\n",
            "5     None  35.0   95.0      M\n"
          ]
        }
      ],
      "source": [
        "import pandas as pd\n",
        "import numpy as np\n",
        "\n",
        "data = {\n",
        "    'Name': ['Alice', 'Bob', 'Charlie', 'Alice', 'Eve', None],\n",
        "    'Age': [25, np.nan, 30, 25, 45, 35],\n",
        "    'Score': [85.0, 90.5, np.nan, 85.0, 70.0, 95.0],\n",
        "    'Gender': ['F', 'M', 'M', 'F', 'F', 'M']\n",
        "}\n",
        "\n",
        "df = pd.DataFrame(data)\n",
        "print(\"Original Dataset:\\n\", df)\n"
      ]
    },
    {
      "cell_type": "code",
      "source": [
        "print(\"\\nMissing Values:\\n\", df.isnull().sum())\n",
        "\n",
        "df['Age'] = df['Age'].fillna(df['Age'].mean())\n",
        "df['Score'] = df['Score'].fillna(df['Score'].mean())\n",
        "\n",
        "df['Name'] = df['Name'].fillna(df['Name'].mode()[0])\n",
        "\n",
        "print(\"\\nAfter Handling Missing Values:\\n\", df)\n"
      ],
      "metadata": {
        "colab": {
          "base_uri": "https://localhost:8080/"
        },
        "id": "1vC36S5gi5Ny",
        "outputId": "1e278086-488e-4a49-aa1b-af81fad9e486"
      },
      "execution_count": null,
      "outputs": [
        {
          "output_type": "stream",
          "name": "stdout",
          "text": [
            "\n",
            "Missing Values:\n",
            " Name      1\n",
            "Age       1\n",
            "Score     1\n",
            "Gender    0\n",
            "dtype: int64\n",
            "\n",
            "After Handling Missing Values:\n",
            "       Name   Age  Score Gender\n",
            "0    Alice  25.0   85.0      F\n",
            "1      Bob  32.0   90.5      M\n",
            "2  Charlie  30.0   85.1      M\n",
            "3    Alice  25.0   85.0      F\n",
            "4      Eve  45.0   70.0      F\n",
            "5    Alice  35.0   95.0      M\n"
          ]
        }
      ]
    },
    {
      "cell_type": "code",
      "source": [
        "print(\"\\nBefore Removing Duplicates:\", df.shape)\n",
        "\n",
        "df = df.drop_duplicates()\n",
        "\n",
        "print(\"After Removing Duplicates:\", df.shape)\n"
      ],
      "metadata": {
        "colab": {
          "base_uri": "https://localhost:8080/"
        },
        "id": "u3BN67Ehi9hR",
        "outputId": "ddb92fb4-f92f-44c0-a15b-cb94264fa90d"
      },
      "execution_count": null,
      "outputs": [
        {
          "output_type": "stream",
          "name": "stdout",
          "text": [
            "\n",
            "Before Removing Duplicates: (6, 4)\n",
            "After Removing Duplicates: (5, 4)\n"
          ]
        }
      ]
    },
    {
      "cell_type": "code",
      "source": [
        "df['Gender'] = df['Gender'].astype('category')\n",
        "\n",
        "print(\"\\nData Types After Conversion:\\n\", df.dtypes)\n"
      ],
      "metadata": {
        "colab": {
          "base_uri": "https://localhost:8080/"
        },
        "id": "nyNCaqM_i-Ji",
        "outputId": "10266107-51c7-48c0-c38a-d6de721e0e78"
      },
      "execution_count": null,
      "outputs": [
        {
          "output_type": "stream",
          "name": "stdout",
          "text": [
            "\n",
            "Data Types After Conversion:\n",
            " Name        object\n",
            "Age        float64\n",
            "Score      float64\n",
            "Gender    category\n",
            "dtype: object\n"
          ]
        }
      ]
    },
    {
      "cell_type": "code",
      "source": [
        "from sklearn.preprocessing import MinMaxScaler, StandardScaler\n",
        "\n",
        "minmax_df = df.copy()\n",
        "minmax = MinMaxScaler()\n",
        "minmax_df[['Age', 'Score']] = minmax.fit_transform(minmax_df[['Age', 'Score']])\n",
        "print(\"\\nMin-Max Scaled Data:\\n\", minmax_df)\n",
        "\n",
        "standard_df = df.copy()\n",
        "standard = StandardScaler()\n",
        "standard_df[['Age', 'Score']] = standard.fit_transform(standard_df[['Age', 'Score']])\n",
        "print(\"\\nStandard Scaled Data:\\n\", standard_df)\n"
      ],
      "metadata": {
        "colab": {
          "base_uri": "https://localhost:8080/"
        },
        "id": "UkE4G-L1i_OO",
        "outputId": "da07ae3a-b3bd-4800-924d-3ed2e4f51571"
      },
      "execution_count": null,
      "outputs": [
        {
          "output_type": "stream",
          "name": "stdout",
          "text": [
            "\n",
            "Min-Max Scaled Data:\n",
            "       Name   Age  Score Gender\n",
            "0    Alice  0.00  0.600      F\n",
            "1      Bob  0.35  0.820      M\n",
            "2  Charlie  0.25  0.604      M\n",
            "4      Eve  1.00  0.000      F\n",
            "5    Alice  0.50  1.000      M\n",
            "\n",
            "Standard Scaled Data:\n",
            "       Name       Age     Score Gender\n",
            "0    Alice -1.262908 -0.014238      F\n",
            "1      Bob -0.210485  0.638320      M\n",
            "2  Charlie -0.511177 -0.002373      M\n",
            "4      Eve  1.744016 -1.793939      F\n",
            "5    Alice  0.240554  1.172230      M\n"
          ]
        }
      ]
    },
    {
      "cell_type": "code",
      "source": [],
      "metadata": {
        "id": "GoZs8iaWjAeC"
      },
      "execution_count": null,
      "outputs": []
    }
  ]
}