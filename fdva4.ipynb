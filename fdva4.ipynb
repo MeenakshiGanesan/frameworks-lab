{
  "nbformat": 4,
  "nbformat_minor": 0,
  "metadata": {
    "colab": {
      "provenance": [],
      "authorship_tag": "ABX9TyMHHGZ1iTrEyLtoPWIm4RLK",
      "include_colab_link": true
    },
    "kernelspec": {
      "name": "python3",
      "display_name": "Python 3"
    },
    "language_info": {
      "name": "python"
    }
  },
  "cells": [
    {
      "cell_type": "markdown",
      "metadata": {
        "id": "view-in-github",
        "colab_type": "text"
      },
      "source": [
        "<a href=\"https://colab.research.google.com/github/MeenakshiGanesan/frameworks-lab/blob/main/fdva4.ipynb\" target=\"_parent\"><img src=\"https://colab.research.google.com/assets/colab-badge.svg\" alt=\"Open In Colab\"/></a>"
      ]
    },
    {
      "cell_type": "code",
      "execution_count": null,
      "metadata": {
        "id": "UV6prCCh6jx9"
      },
      "outputs": [],
      "source": [
        "import pandas as pd\n",
        "import numpy as np\n",
        "\n",
        "data = {\n",
        "    'Student_ID': [101, 102, 103, 104, 105],\n",
        "    'Name': ['Alice', 'Bob', 'Charlie', 'David', 'Eva'],\n",
        "    'Math_Score': [88, 92, 95, 70, 85],\n",
        "    'Science_Score': [90, 85, 78, 88, 92],\n",
        "    'English_Score': [85, 87, 90, 75, 80],\n",
        "    'Attendance': [95, 80, 88, 70, 98]\n",
        "}\n",
        "\n",
        "df = pd.DataFrame(data)"
      ]
    },
    {
      "cell_type": "code",
      "source": [
        "print(df.head())\n",
        "print(df.info())\n",
        "print(df.dtypes)"
      ],
      "metadata": {
        "colab": {
          "base_uri": "https://localhost:8080/"
        },
        "id": "qB0AhjLAOCgn",
        "outputId": "9984a436-196d-4b2f-c01b-e061c6b3b09f"
      },
      "execution_count": null,
      "outputs": [
        {
          "output_type": "stream",
          "name": "stdout",
          "text": [
            "   Student_ID     Name  Math_Score  Science_Score  English_Score  Attendance\n",
            "0         101    Alice          88             90             85          95\n",
            "1         102      Bob          92             85             87          80\n",
            "2         103  Charlie          95             78             90          88\n",
            "3         104    David          70             88             75          70\n",
            "4         105      Eva          85             92             80          98\n",
            "<class 'pandas.core.frame.DataFrame'>\n",
            "RangeIndex: 5 entries, 0 to 4\n",
            "Data columns (total 6 columns):\n",
            " #   Column         Non-Null Count  Dtype \n",
            "---  ------         --------------  ----- \n",
            " 0   Student_ID     5 non-null      int64 \n",
            " 1   Name           5 non-null      object\n",
            " 2   Math_Score     5 non-null      int64 \n",
            " 3   Science_Score  5 non-null      int64 \n",
            " 4   English_Score  5 non-null      int64 \n",
            " 5   Attendance     5 non-null      int64 \n",
            "dtypes: int64(5), object(1)\n",
            "memory usage: 372.0+ bytes\n",
            "None\n",
            "Student_ID        int64\n",
            "Name             object\n",
            "Math_Score        int64\n",
            "Science_Score     int64\n",
            "English_Score     int64\n",
            "Attendance        int64\n",
            "dtype: object\n"
          ]
        }
      ]
    },
    {
      "cell_type": "code",
      "source": [
        "=low_attendance = df[df['Attendance'] < 85]\n",
        "print(\"Students with low attendance:\\n\", low_attendance)\n",
        "\n",
        "=high_math = df[df['Math_Score'] > 90]\n",
        "print(\"Students with high Math scores:\\n\", high_math)\n"
      ],
      "metadata": {
        "colab": {
          "base_uri": "https://localhost:8080/"
        },
        "id": "0Jtx3IZF6wcA",
        "outputId": "eb71e977-dfba-4606-d194-5e4fe260315f"
      },
      "execution_count": null,
      "outputs": [
        {
          "output_type": "stream",
          "name": "stdout",
          "text": [
            "Students with low attendance:\n",
            "    Student_ID   Name  Math_Score  Science_Score  English_Score  Attendance\n",
            "1         102    Bob          92             85             87          80\n",
            "3         104  David          70             88             75          70\n",
            "Students with high Math scores:\n",
            "    Student_ID     Name  Math_Score  Science_Score  English_Score  Attendance\n",
            "1         102      Bob          92             85             87          80\n",
            "2         103  Charlie          95             78             90          88\n"
          ]
        }
      ]
    },
    {
      "cell_type": "code",
      "source": [
        "print(\"Mean:\\n\", df[['Math_Score', 'Science_Score', 'English_Score']].mean())\n",
        "print(\"Median:\\n\", df[['Math_Score', 'Science_Score', 'English_Score']].median())\n",
        "print(\"Mode:\\n\", df[['Math_Score', 'Science_Score', 'English_Score']].mode())\n",
        "\n",
        "print(\"Range:\\n\", df[['Math_Score', 'Science_Score', 'English_Score']].max() - df[['Math_Score', 'Science_Score', 'English_Score']].min())\n",
        "print(\"Variance:\\n\", df[['Math_Score', 'Science_Score', 'English_Score']].var())\n",
        "print(\"Standard Deviation:\\n\", df[['Math_Score', 'Science_Score', 'English_Score']].std())\n"
      ],
      "metadata": {
        "colab": {
          "base_uri": "https://localhost:8080/"
        },
        "id": "FPLckANi6y43",
        "outputId": "fd4a7d35-efc9-4f4c-b41f-b7739b100e2a"
      },
      "execution_count": null,
      "outputs": [
        {
          "output_type": "stream",
          "name": "stdout",
          "text": [
            "Mean:\n",
            " Math_Score       86.0\n",
            "Science_Score    86.6\n",
            "English_Score    83.4\n",
            "dtype: float64\n",
            "Median:\n",
            " Math_Score       88.0\n",
            "Science_Score    88.0\n",
            "English_Score    85.0\n",
            "dtype: float64\n",
            "Mode:\n",
            "    Math_Score  Science_Score  English_Score\n",
            "0          70             78             75\n",
            "1          85             85             80\n",
            "2          88             88             85\n",
            "3          92             90             87\n",
            "4          95             92             90\n",
            "Range:\n",
            " Math_Score       25\n",
            "Science_Score    14\n",
            "English_Score    15\n",
            "dtype: int64\n",
            "Variance:\n",
            " Math_Score       94.5\n",
            "Science_Score    29.8\n",
            "English_Score    35.3\n",
            "dtype: float64\n",
            "Standard Deviation:\n",
            " Math_Score       9.721111\n",
            "Science_Score    5.458938\n",
            "English_Score    5.941380\n",
            "dtype: float64\n"
          ]
        }
      ]
    },
    {
      "cell_type": "code",
      "source": [],
      "metadata": {
        "id": "GeXt3ElZ60PY"
      },
      "execution_count": null,
      "outputs": []
    }
  ]
}